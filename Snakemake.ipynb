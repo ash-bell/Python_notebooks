{
 "cells": [
  {
   "cell_type": "code",
   "execution_count": null,
   "metadata": {},
   "outputs": [],
   "source": [
    "configfile: \"configs/biller_config.yaml\"\n",
    "configfile: \"configs/GOV2_config.yaml\"\n",
    "configfile: \"configs/sample_config.yaml\""
   ]
  },
  {
   "cell_type": "code",
   "execution_count": null,
   "metadata": {},
   "outputs": [],
   "source": [
    "rule all:\n",
    "    input:\n",
    "        expand(\"mapping/{sample}.aln.srt.bam\", sample=config[\"samples\"]),\n",
    "        expand(\"mapping/{sample}.aln.srt.bam.bai\", sample=config[\"samples\"])"
   ]
  },
  {
   "cell_type": "code",
   "execution_count": null,
   "metadata": {},
   "outputs": [],
   "source": [
    "rule bbwrap:\n",
    "    input: \n",
    "        genome=\"genomes/{sample}.fasta\",\n",
    "        biller=\"\"\n",
    "    output: \"mapping/{sample}.aln.srt.bam\"\n",
    "    log: \"logs/mapping/{sample}.log\"\n",
    "    shell:\"bbwrap.sh ref={input.genome} in={params.biller},{params.GOV2} out={output} nodisk=t append=t; sh bs.sh | tee {log}\""
   ]
  }
 ],
 "metadata": {
  "kernelspec": {
   "display_name": "Python 3",
   "language": "python",
   "name": "python3"
  },
  "language_info": {
   "codemirror_mode": {
    "name": "ipython",
    "version": 3
   },
   "file_extension": ".py",
   "mimetype": "text/x-python",
   "name": "python",
   "nbconvert_exporter": "python",
   "pygments_lexer": "ipython3",
   "version": "3.6.8"
  }
 },
 "nbformat": 4,
 "nbformat_minor": 2
}

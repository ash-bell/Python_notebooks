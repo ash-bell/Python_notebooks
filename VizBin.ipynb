{
 "cells": [
  {
   "cell_type": "code",
   "execution_count": null,
   "metadata": {},
   "outputs": [],
   "source": [
    "Used Vizbin to visualise assemblies\n",
    "\n"
   ]
  },
  {
   "cell_type": "code",
   "execution_count": null,
   "metadata": {},
   "outputs": [],
   "source": [
    "CheckM to check completion/sim GC content\n",
    "#checkM\n",
    "#https://github.com/Ecogenomics/CheckM/wiki/Genome-Quality-Commands\n",
    "\n",
    "PATH=$PATH:/gpfs/ts0/home/bt273/BIOS-SCOPE/metag/ashley/tools/Prodigal\n",
    "source activate py27\n",
    "\n",
    "checkm lineage_wf \\\n",
    "2k5/ \\\n",
    "2k5_checkm_output/ \\\n",
    "-x fa \\\n",
    "-t 16 \\\n",
    "--pplacer_threads 16\n",
    "\n",
    "checkm qa \\\n",
    "./2k5_checkm_output/lineage.ms \\\n",
    "./2k5_checkm_output \\\n",
    "--out_format 2 \\\n",
    "--file ./2k5_checkm_output/2k5_completeness_stats.txt \\\n",
    "--tab_table \\\n",
    "-t 16 "
   ]
  },
  {
   "cell_type": "code",
   "execution_count": 24,
   "metadata": {},
   "outputs": [
    {
     "name": "stdout",
     "output_type": "stream",
     "text": [
      "ID: c_000000000002\n",
      "Name: c_000000000002\n",
      "Description: c_000000000002\n",
      "Number of features: 0\n",
      "Seq('GACCGAAACTCCTCAGTCACCCACAGAAACATCCCCGGAGGCGTTGGATAAGGA...ATA', SingleLetterAlphabet())\n"
     ]
    }
   ],
   "source": [
    "from Bio import SeqIO\n",
    "first_record = SeqIO.parse(\"/home/minion/projects/vizbin/200m/2k5/1\", \"fasta\").__next__()\n",
    "print(first_record)"
   ]
  },
  {
   "cell_type": "code",
   "execution_count": 65,
   "metadata": {},
   "outputs": [
    {
     "name": "stdout",
     "output_type": "stream",
     "text": [
      "('31.fa', 2.583109253068176)\n",
      "('27.fa', 2.274210448683991)\n",
      "('3.fa', 1.7356349118332586)\n",
      "('4.fa', 3.507174679253863)\n",
      "('7.fa', 2.708827091706662)\n",
      "('9.fa', 2.9438259874982435)\n",
      "('10.fa', 1.9563109458898955)\n",
      "('14.fa', 3.2020977543504916)\n",
      "('29.fa', 0.724937722969478)\n",
      "('26.fa', 7.843118594277315)\n",
      "('5.fa', 2.8812708436635073)\n",
      "('15.fa', 2.237844603225454)\n",
      "('20.fa', 9.113938401016023)\n",
      "('2.fa', 3.55695612758644)\n",
      "('18.fa', 2.4584967574696894)\n",
      "('19.fa', 3.5461982918128716)\n",
      "('16.fa', 1.7803750483628373)\n",
      "('25.fa', 3.9564008432340882)\n",
      "('30.fa', 2.9244053821811007)\n",
      "('34.fa', 1.4642637418322402)\n",
      "('17.fa', 1.4536597851360054)\n",
      "('12.fa', 1.161087205419472)\n",
      "('13.fa', 1.613764605170804)\n",
      "('1.fa', 17.785618153461684)\n",
      "('24.fa', 2.9970945443244337)\n",
      "('11.fa', 3.2425534895173906)\n",
      "('8.fa', 2.4372854679023144)\n",
      "('33.fa', 2.5147823862833816)\n",
      "('28.fa', 1.2499605882367955)\n",
      "('23.fa', 2.472160105509083)\n",
      "('21.fa', 2.845965933320262)\n",
      "('6.fa', 1.2399799843197048)\n",
      "('22.fa', 2.0190671804838245)\n",
      "('32.fa', 0.9682530169108928)\n"
     ]
    }
   ],
   "source": [
    "from Bio import SeqIO\n",
    "from Bio.SeqUtils import GC\n",
    "import numpy as np\n",
    "import glob\n",
    "import os\n",
    "\n",
    "gc_bin =[]\n",
    "file_list = glob.glob(\"/home/minion/projects/vizbin/200m/2k5/*.fa\")\n",
    "for f in file_list:\n",
    "    for record in SeqIO.parse(f, \"fasta\"):\n",
    "        gc_bin.append(GC(record.seq))\n",
    "    variance = os.path.basename(f), np.var(gc_bin)\n",
    "    print(variance)\n",
    "    gc_bin =[]"
   ]
  },
  {
   "cell_type": "code",
   "execution_count": null,
   "metadata": {},
   "outputs": [],
   "source": [
    "from Bio import SeqIO\n",
    "from Bio.SeqUtils import GC\n",
    "import numpy as np\n",
    "import glob\n",
    "import os\n",
    "\n",
    "gc_bin =[]\n",
    "file_list = glob.glob(\"/home/minion/projects/vizbin/200m/2k5/*.fa\")\n",
    "for f in file_list:\n",
    "    for record in SeqIO.parse(f, \"fasta\"):\n",
    "        gc_bin.append(GC(record.seq))\n",
    "    variance = os.path.basename(f), np.var(gc_bin)\n",
    "    print(variance)\n",
    "    gc_bin =[]"
   ]
  },
  {
   "cell_type": "code",
   "execution_count": null,
   "metadata": {},
   "outputs": [],
   "source": [
    "source activate gtdbtk\n",
    "\n",
    "gtdbtk de_novo_wf \\\n",
    "--genome_dir ./ \\\n",
    "--bac120_ms \\\n",
    "--outgroup_taxon d__Archaea \\\n",
    "--taxa_filter d__Bacteria \\\n",
    "--out_dir gtdbtk_bac_output \\\n",
    "--extension fa \\\n",
    "--prefix 80m_2k5_vizbin \\\n",
    "--cpus 16\n",
    "\n",
    "#!/bin/bash\n",
    "#PBS -V # set verbose output\n",
    "#PBS -N 80m_2k5_gtdbtk\n",
    "#PBS -d /gpfs/ts0/home/bt273/BIOS-SCOPE/metag/ashley/vizbin/200m/2k5nts\n",
    "#PBS -q pq\n",
    "#PBS -l walltime=8:00:00 # Maximum wall time for the job. \n",
    "#PBS -A Research_Project-172179 # research project to submit under.\n",
    "#PBS -l nodes=1:ppn=16\n",
    "#PBS -j oe\n",
    "#PBS -l feature=phi # Phi\n",
    "\n",
    "source activate gtdbtk\n",
    "gtdbtk classify_wf \\\n",
    "--genome_dir ./ \\\n",
    "--out_dir gtdbtk_classify_output \\\n",
    "--extension fa \\\n",
    "--prefix 80m_2k5_vizbin \\\n",
    "--cpus 16\n",
    "\n",
    "https://github.com/tjunier/newick_utils\n",
    "nw_rename <nw.tree> <mappings_file>"
   ]
  }
 ],
 "metadata": {
  "kernelspec": {
   "display_name": "Python 3",
   "language": "python",
   "name": "python3"
  },
  "language_info": {
   "codemirror_mode": {
    "name": "ipython",
    "version": 3
   },
   "file_extension": ".py",
   "mimetype": "text/x-python",
   "name": "python",
   "nbconvert_exporter": "python",
   "pygments_lexer": "ipython3",
   "version": "3.6.5"
  }
 },
 "nbformat": 4,
 "nbformat_minor": 2
}

{
 "cells": [
  {
   "cell_type": "code",
   "execution_count": null,
   "metadata": {},
   "outputs": [],
   "source": [
    "###\n",
    "#pangenomics WF\n",
    "###\n",
    "\n",
    "!for i in *.fasta; do anvi-script-FASTA-to-contigs-db $i; done\n",
    "\n",
    "!for i in *.db; do anvi-run-ncbi-cogs -c $i; done\n",
    "\n",
    "#create external-genomes.txt\n",
    "!vim external-genomes.txt\n",
    "name\tcontigs_db_path\n",
    "!for i in *.db; do echo -e $(basename $i .db)'\\t'$i >> external-genomes.txt; done\n",
    "\n",
    "!anvi-gen-genomes-storage -e external-genomes.txt -o SAR11-GENOMES.db\n",
    "\n",
    "!anvi-pan-genome -g SAR11-GENOMES.db \\\n",
    "--project-name \"SAR11_Pangenomes\" \\\n",
    "--output-dir SAR11 \\\n",
    "--num-threads 32 \\\n",
    "--use-ncbi-blast \\ #better then diamond but slower according to anvio developers\n",
    "--mcl-inflation 10 #for clsely realted use 10, if far apart use 2. Creates more or less clusters"
   ]
  },
  {
   "cell_type": "code",
   "execution_count": null,
   "metadata": {},
   "outputs": [],
   "source": [
    "###\n",
    "#phylogenetics wf\n",
    "###\n",
    "\n",
    "!for i in *.fasta; do anvi-script-FASTA-to-contigs-db $i; done\n",
    "\n",
    "#create external-genomes.txt\n",
    "!vim external-genomes.txt\n",
    "name\tcontigs_db_path\n",
    "!for i in *.db; do echo -e $(basename $i .db)'\\t'$i >> external-genomes.txt; done\n",
    "\n",
    "!anvi-get-sequences-for-hmm-hits \\\n",
    "--external-genomes external-genomes.txt \\\n",
    "-o concatenated-proteins.fa \\\n",
    "--hmm-source Rinke_et_al \\ #campbell used by anvio but rinke give back more genes -> more things to measure against\n",
    "--return-best-hit \\\n",
    "--get-aa-sequence \\\n",
    "--concatenate\n",
    "\n",
    "!anvi-gen-phylogenomic-tree -f concatenated-proteins.fa -o phylogenomic-tree.txt\n",
    "\n",
    "\n"
   ]
  }
 ],
 "metadata": {
  "kernelspec": {
   "display_name": "Python 3",
   "language": "python",
   "name": "python3"
  },
  "language_info": {
   "codemirror_mode": {
    "name": "ipython",
    "version": 3
   },
   "file_extension": ".py",
   "mimetype": "text/x-python",
   "name": "python",
   "nbconvert_exporter": "python",
   "pygments_lexer": "ipython3",
   "version": "3.6.8"
  }
 },
 "nbformat": 4,
 "nbformat_minor": 2
}

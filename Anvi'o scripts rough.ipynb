{
  "nbformat": 4,
  "nbformat_minor": 0,
  "metadata": {
    "kernelspec": {
      "display_name": "Python 3",
      "language": "python",
      "name": "python3"
    },
    "language_info": {
      "codemirror_mode": {
        "name": "ipython",
        "version": 3
      },
      "file_extension": ".py",
      "mimetype": "text/x-python",
      "name": "python",
      "nbconvert_exporter": "python",
      "pygments_lexer": "ipython3",
      "version": "3.6.5"
    },
    "colab": {
      "name": "Anvi'o scripts rough.ipynb",
      "provenance": [],
      "include_colab_link": true
    }
  },
  "cells": [
    {
      "cell_type": "markdown",
      "metadata": {
        "id": "view-in-github",
        "colab_type": "text"
      },
      "source": [
        "<a href=\"https://colab.research.google.com/github/ash-bell/Python_notebooks/blob/master/Anvi'o%20scripts%20rough.ipynb\" target=\"_parent\"><img src=\"https://colab.research.google.com/assets/colab-badge.svg\" alt=\"Open In Colab\"/></a>"
      ]
    },
    {
      "cell_type": "code",
      "metadata": {
        "id": "RObFxcZRzbXT",
        "colab_type": "code",
        "colab": {}
      },
      "source": [
        ""
      ],
      "execution_count": 0,
      "outputs": []
    },
    {
      "cell_type": "markdown",
      "metadata": {
        "id": "NpfvI9cmzbXW",
        "colab_type": "text"
      },
      "source": [
        "### make downloading RefSeq database a job\n",
        "\n",
        "```\n",
        "#!/bin/bash\n",
        "#PBS -V # set verbose output\n",
        "#PBS -N Download.RefSeq.database.for.Kaiju\n",
        "#PBS -d /gpfs/ts0/home/bt273/BIOS-SCOPE/metag/ashley/scripts/runs\n",
        "#PBS -q pq\n",
        "#PBS -l walltime=48:00:00 # Maximum wall time for the job. \n",
        "#PBS -A Research_Project-172179 # research project to submit under.\n",
        "#PBS -l nodes=1:ppn=16\n",
        "#PBS -j oe\n",
        "\n",
        "cd /gpfs/ts0/home/bt273/BIOS-SCOPE/metag/ashley/ref/kaijudb\n",
        "../kaiju/bin/makeDB.sh -n -t 16\n",
        "\n",
        "```"
      ]
    },
    {
      "cell_type": "markdown",
      "metadata": {
        "id": "QnEUrvpLzbXY",
        "colab_type": "text"
      },
      "source": [
        "### hmm and ncbi cogs setup\n",
        "\n",
        "```\n",
        "\n",
        "### run in head node\n",
        "cd gpfs/ts0/home/bt273/BIOS-SCOPE/metag/ashley/data\n",
        "anvi-setup-ncbi-cogs\n",
        "anvi-setup-pfam\n",
        "\n",
        "```\n",
        "\n",
        "```\n",
        "\n",
        "#!/bin/bash\n",
        "#PBS -V # set verbose output\n",
        "#PBS -N anvio.hmms.pfams.ncbi_cogs\n",
        "#PBS -d /gpfs/ts0/home/bt273/BIOS-SCOPE/metag/ashley/scripts/runs\n",
        "#PBS -q pq\n",
        "#PBS -l walltime=48:00:00 # Maximum wall time for the job. \n",
        "#PBS -A Research_Project-172179 # research project to submit under.\n",
        "#PBS -l nodes=1:ppn=16\n",
        "#PBS -j oe\n",
        "\n",
        "PROFILE_LOG=/gpfs/ts0/home/bt273/BIOS-SCOPE/metag/ashley/data.log\n",
        "\n",
        "source activate anvio5\n",
        "cd /gpfs/ts0/home/bt273/BIOS-SCOPE/metag/ashley/data\n",
        "anvi-run-hmms -c contigs.db --num-threads 16 2>&1 | tee -a $PROFILE_LOG\n",
        "anvi-run-pfams -c contigs.db --num-threads 16 2>&1 | tee -a $PROFILE_LOG \n",
        "anvi-run-ncbi-cogs -c contigs.db --num-threads 16 2>&1 | tee -a $PROFILE_LOG\n",
        "\n",
        "\n",
        "\n",
        "```"
      ]
    },
    {
      "cell_type": "markdown",
      "metadata": {
        "id": "7b68k7D8zbXZ",
        "colab_type": "text"
      },
      "source": [
        "### contig database prep\n",
        "\n",
        "```\n",
        "\n",
        "anvi-run-hmms -c contigs.db --num-threads 16 2>&1 | tee -a $PROFILE_LOG\n",
        "anvi-run-pfams -c contigs.db --num-threads 16\n",
        "kaiju -t /gpfs/ts0/home/bt273/BIOS-SCOPE/metag/ashley/ref/kaijudb/proGenomes/nodes.dmp \\\n",
        "      -f /gpfs/ts0/home/bt273/BIOS-SCOPE/metag/ashley/ref/kaijudb/proGenomes/kaiju_db.fmi \\\n",
        "      -i gene_calls.fa \\\n",
        "      -o gene_calls_nr.out \\\n",
        "      -z 16 \\\n",
        "      -v 2>&1 | tee -a $PROFILE_LOG\n",
        "\n",
        "addTaxonNames -t /gpfs/ts0/home/bt273/BIOS-SCOPE/metag/ashley/ref/kaijudb/nodes.dmp \\\n",
        "              -n /gpfs/ts0/home/bt273/BIOS-SCOPE/metag/ashley/ref/kaijudb/names.dmp \\\n",
        "              -i gene_calls_nr.out \\\n",
        "              -o gene_calls_nr.names \\\n",
        "              -r superkingdom,phylum,class,order,family,genus,species\n",
        "\n",
        "cp contigs.db contigs.db.bak.pre.kaiju\n",
        "\n",
        "anvi-import-taxonomy-for-genes -i gene_calls_nr.names \\\n",
        "                               -c contigs.db \\\n",
        "                               -p kaiju \\\n",
        "                               --just-do-it 2>&1 | tee -a $PROFILE_LOG\n",
        "anvi-run-ncbi-cogs -c contigs.db --num-threads 16 --sensitive 2>&1 | tee -a $PROFILE_LOG\n",
        "\n",
        "```"
      ]
    },
    {
      "cell_type": "code",
      "metadata": {
        "id": "hVg2D_SMzbXa",
        "colab_type": "code",
        "colab": {}
      },
      "source": [
        ""
      ],
      "execution_count": 0,
      "outputs": []
    },
    {
      "cell_type": "code",
      "metadata": {
        "id": "DnWWrVa1zbXe",
        "colab_type": "code",
        "colab": {}
      },
      "source": [
        "### Profiling BAMs for anvio\n",
        "\n",
        "```\n",
        "\n",
        "#!/bin/bash\n",
        "#PBS -V # set verbose output\n",
        "#PBS -N anvio.profile.SAMPLE\n",
        "#PBS -d /gpfs/ts0/home/bt273/BIOS-SCOPE/metag/ashley/scripts/runs\n",
        "#PBS -q pq\n",
        "#PBS -l walltime=48:00:00 # Maximum wall time for the job. \n",
        "#PBS -A Research_Project-172179 # research project to submit under.\n",
        "#PBS -l nodes=1:ppn=16\n",
        "#PBS -j oe\n",
        "\n",
        "source activate anvio5\n",
        "\n",
        "PROJECT_HOME=/gpfs/ts0/home/bt273/BIOS-SCOPE/metag/data/AE1712\n",
        "\n",
        "OUT_DIR=$PROJECT_HOME/assemblies\n",
        "cd $OUT_DIR\n",
        "\n",
        "\n",
        "NAME=$(echo \"SAMPLE\" | sed \"s/2654_//g\")\n",
        "BAMFILE=$OUT_DIR/mappings/$NAME.vs.ae1712.sorted.bam\n",
        "\n",
        "LOGFILE=$OUT_DIR/profiles/SAMPLE.profile.log\n",
        "\n",
        "#NAME=$(echo \"SAMPLE\" | sed \"s/.*\\(AE1712.*\\)/\\1/g\")\n",
        "\n",
        "anvi-profile \\\n",
        "--input-file $BAMFILE \\\n",
        "--contigs-db AE1712.db \\\n",
        "--output-dir profiles/$NAME \\\n",
        "--sample-name $NAME \\\n",
        "--overwrite-output-destinations \\\n",
        "--profile-SCVs \\\n",
        "--num-threads 16 2>&1 | tee -a $LOGFILE\n",
        "\n",
        "```"
      ],
      "execution_count": 0,
      "outputs": []
    },
    {
      "cell_type": "markdown",
      "metadata": {
        "id": "PSk8BlVqzbXh",
        "colab_type": "text"
      },
      "source": [
        "### kaiju stuff\n",
        "\n",
        "#!/bin/bash\n",
        "#PBS -V # set verbose output\n",
        "#PBS -N anvi.run.pfams\n",
        "#PBS -d /gpfs/ts0/home/bt273/BIOS-SCOPE/metag/ashley/scripts/runs\n",
        "#PBS -q pq\n",
        "#PBS -l walltime=48:00:00 # Maximum wall time for the job. \n",
        "#PBS -A Research_Project-172179 # research project to submit under.\n",
        "#PBS -l nodes=1:ppn=16\n",
        "#PBS -j oe\n",
        "\n",
        "source activate anvio5\n",
        "cd /gpfs/ts0/home/bt273/BIOS-SCOPE/metag/ashley/data\n",
        "anvi-get-sequences-for-gene-calls -c contigs.db -o gene_calls.fa\n",
        "kaiju -t /gpfs/ts0/home/bt273/BIOS-SCOPE/metag/ashley/ref/kaijudb/nodes.dmp \\\n",
        "      -f /gpfs/ts0/home/bt273/BIOS-SCOPE/metag/ashley/ref/kaijudb/kaiju_db.fmi \\\n",
        "      -i /gpfs/ts0/home/bt273/BIOS-SCOPE/metag/ashley/data/gene_calls.fa \\\n",
        "      -o /gpfs/ts0/home/bt273/BIOS-SCOPE/metag/ashley/data/gene_calls_nr.out \\\n",
        "      -z 16 \\\n",
        "      -v 2>&1 | tee -a $PROFILE_LOG\n",
        "\n",
        "addTaxonNames -t /gpfs/ts0/home/bt273/BIOS-SCOPE/metag/ashley/ref/kaijudb/nodes.dmp \\\n",
        "              -n /gpfs/ts0/home/bt273/BIOS-SCOPE/metag/ashley/ref/kaijudb/names.dmp \\\n",
        "              -i /gpfs/ts0/home/bt273/BIOS-SCOPE/metag/ashley/data/gene_calls_nr.out \\\n",
        "              -o /gpfs/ts0/home/bt273/BIOS-SCOPE/metag/ashley/data/gene_calls_nr.names \\\n",
        "              -r superkingdom,phylum,class,order,family,genus,species\n",
        "\n",
        "cp contigs.db contigs.db.bak.pre.kaiju\n",
        "\n",
        "anvi-import-taxonomy-for-genes -i /gpfs/ts0/home/bt273/BIOS-SCOPE/metag/ashley/data/gene_calls_nr.names \\\n",
        "                               -c /gpfs/ts0/home/bt273/BIOS-SCOPE/metag/ashley/data/contigs.db \\\n",
        "                               -p kaiju \\\n"
      ]
    }
  ]
}